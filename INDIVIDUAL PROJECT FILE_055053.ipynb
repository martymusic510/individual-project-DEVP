{
 "cells": [
  {
   "cell_type": "markdown",
   "id": "9abec1c5-ec7c-4d1c-b2b8-d48d6b5b72fb",
   "metadata": {},
   "source": [
    "# **Data Exploration with Python**\n",
    "\n",
    "* **Student Name: Amartya Raj Singh**\n",
    "* **Enrollment Number: 055053**\n",
    " # **Description of Data**\n",
    "Data Source & Size: https://www.kaggle.com/datasets/chakilamvishwas/imports-exports-15000 containing 3001 records.\n",
    "\n",
    "Data Type: Panel data\n",
    "\n",
    "Data Dimension\n",
    "\n",
    "Number of Variables: 17\n",
    "\n",
    "Number of Observations: 3001\n",
    "\n",
    "Data Variable Type:\n",
    "\n",
    " Categorical Variable: Transaction ID, Country, Product, Import/Export, Date, Category, Port, Shipping Method, Supplier, Customer, Payment Terms\n",
    "\n",
    " Non-Categorical Variable: Quantity, Value, Customs Code, Weight, Invoice Number \n",
    " \n",
    " Data Variable Category:\n",
    "\n",
    " Categorical (Nominal): Transaction ID, Country, Product, Import/Export, Shipping Method, Supplier, Customer\n",
    "\n",
    " Categorical (Ordinal): Payment Terms\n",
    "\n",
    " Non-Categorical: Quantity, Value, Customs Code, Weight, Invoice Number\n",
    " # **Project Objectives**\n",
    "Objective 1: Analyze the trends in trade transactions across different countries and products . \n",
    "\n",
    "Objective 2: Identify key factors that affect trade volume, value, and method of shipping . \n",
    "# **Problem Statement** \n",
    "How do different shipping methods, product categories, and countries impact the value and weight of transactions? What are the significant patterns in trade operations?\n",
    "# **Analysis of Data**\n",
    "\n",
    "1. Quantity: The average quantity traded is 4966 units with a standard deviation of 2892. The minimum quantity is 9, while the maximum is 10,000. \n",
    "\n",
    "2. Value: The mean value of transactions is 5099 with a standard deviation of 2854. Values range from 102.87 to 9991.77. Customs Code: The average customs code is 548,126, and codes vary widely from 100,147 to 999,768. \n",
    "\n",
    "3. Weight: The mean weight of shipments is 2527.4 kg, with a maximum of 4999.9 kg and a minimum of 1.98 kg.\n",
    "\n",
    "4. Invoice Number: Invoice numbers are represented numerically and range between 47,954 and 9,999,503.\n",
    "\n",
    "5. Positive correlation between Trade Value and Quantity (r = 0.65), indicating that larger quantities are generally associated with higher trade values.\n",
    "\n",
    "6. Air freight is associated with high-value, lower-weight shipments, whereas sea freight is typically used for bulky, low-value goods.\n",
    "\n",
    "7. Cambodia and Northern Mariana Islands show high transaction counts, indicating strong trade relations.\n",
    "\n",
    "8. Bar Chart: Top 10 countries with the highest trade volumes by quantity and value.\n",
    "\n",
    "9. Scatter Plot: Trade Value vs. Quantity for different shipping modes, showing that air freight deals mostly with high-value, low-quantity goods.\n",
    "\n",
    "10. Pie Chart: Distribution of different product categories by their trade value, highlighting key sectors like clothing and electronics.\n",
    "# **Observations | Findings**\n",
    "\n",
    "a)\tHigher-value transactions tend to be associated with products in certain categories such as clothing.\n",
    "\n",
    "b)\tExport transactions show a greater variance in value and weight compared to imports.\n",
    "\n",
    "c)\tCertain countries like Cambodia and Northern Mariana Islands have high transaction counts, indicating strong trade relations.\n",
    "\n",
    "d)\tAir shipping appears to be more common for lighter and higher-value goods, while sea shipping is associated with heavier goods.\n",
    "# **Managerial Insights | Recommendations**\n",
    "\n",
    "1.\tOptimizing Shipping Methods:\n",
    "\n",
    "\tLeverage air freight for high-value, lightweight goods, and use sea freight for heavier, lower-value goods to minimize shipping costs and maximize       efficiency.\n",
    "\n",
    "2.\tFocus on High-Value Categories:\n",
    "                                                                               \n",
    "\tPrioritize partnerships with countries or industries that consistently generate high trade values, such as clothing exports.\n",
    "\n",
    "3.\tCustoms Process Improvement:\n",
    "                                                                               \n",
    "\tStreamline customs documentation processes, particularly in countries where customs code variance is high, to reduce delays and improve transaction      transparency.\n",
    "4.\tStrategic Expansion:\n",
    "\n",
    "\tExpand trade partnerships with countries like Cambodia that exhibit strong trade relationships and consistent transaction volumes."
   ]
  },
  {
   "cell_type": "code",
   "execution_count": 2,
   "id": "cc38290f-5c47-4a15-a343-ba51621c416b",
   "metadata": {},
   "outputs": [
    {
     "data": {
      "text/html": [
       "<div>\n",
       "<style scoped>\n",
       "    .dataframe tbody tr th:only-of-type {\n",
       "        vertical-align: middle;\n",
       "    }\n",
       "\n",
       "    .dataframe tbody tr th {\n",
       "        vertical-align: top;\n",
       "    }\n",
       "\n",
       "    .dataframe thead th {\n",
       "        text-align: right;\n",
       "    }\n",
       "</style>\n",
       "<table border=\"1\" class=\"dataframe\">\n",
       "  <thead>\n",
       "    <tr style=\"text-align: right;\">\n",
       "      <th></th>\n",
       "      <th>Transaction_ID</th>\n",
       "      <th>Country</th>\n",
       "      <th>Product</th>\n",
       "      <th>Import_Export</th>\n",
       "      <th>Quantity</th>\n",
       "      <th>Value</th>\n",
       "      <th>Date</th>\n",
       "      <th>Category</th>\n",
       "      <th>Port</th>\n",
       "      <th>Customs_Code</th>\n",
       "      <th>Weight</th>\n",
       "      <th>Shipping_Method</th>\n",
       "      <th>Supplier</th>\n",
       "      <th>Customer</th>\n",
       "      <th>Invoice_Number</th>\n",
       "      <th>Payment_Terms</th>\n",
       "    </tr>\n",
       "  </thead>\n",
       "  <tbody>\n",
       "    <tr>\n",
       "      <th>3581</th>\n",
       "      <td>2645f7dd-216c-4bc3-892a-2222819e5646</td>\n",
       "      <td>Luxembourg</td>\n",
       "      <td>white</td>\n",
       "      <td>Import</td>\n",
       "      <td>4691</td>\n",
       "      <td>7532.40</td>\n",
       "      <td>12-02-2022</td>\n",
       "      <td>Toys</td>\n",
       "      <td>Lake Tammymouth</td>\n",
       "      <td>959194</td>\n",
       "      <td>529.26</td>\n",
       "      <td>Air</td>\n",
       "      <td>Reed Inc</td>\n",
       "      <td>Kristina Fletcher</td>\n",
       "      <td>53763977</td>\n",
       "      <td>Cash on Delivery</td>\n",
       "    </tr>\n",
       "    <tr>\n",
       "      <th>9663</th>\n",
       "      <td>fce3de29-0a78-4854-8211-83e86e09ff08</td>\n",
       "      <td>Faroe Islands</td>\n",
       "      <td>pass</td>\n",
       "      <td>Export</td>\n",
       "      <td>7056</td>\n",
       "      <td>6278.95</td>\n",
       "      <td>20-10-2021</td>\n",
       "      <td>Clothing</td>\n",
       "      <td>West Matthew</td>\n",
       "      <td>677032</td>\n",
       "      <td>3043.56</td>\n",
       "      <td>Air</td>\n",
       "      <td>Kaufman-Leonard</td>\n",
       "      <td>Ashley Grant</td>\n",
       "      <td>174783</td>\n",
       "      <td>Cash on Delivery</td>\n",
       "    </tr>\n",
       "    <tr>\n",
       "      <th>4807</th>\n",
       "      <td>e3ac24bc-c6fc-46ee-8e27-8f2e25b7d199</td>\n",
       "      <td>Ethiopia</td>\n",
       "      <td>measure</td>\n",
       "      <td>Export</td>\n",
       "      <td>7752</td>\n",
       "      <td>3834.44</td>\n",
       "      <td>31-03-2024</td>\n",
       "      <td>Furniture</td>\n",
       "      <td>Watsonburgh</td>\n",
       "      <td>199736</td>\n",
       "      <td>4134.48</td>\n",
       "      <td>Air</td>\n",
       "      <td>Price, Johnson and Green</td>\n",
       "      <td>Krystal Johnson</td>\n",
       "      <td>26472909</td>\n",
       "      <td>Cash on Delivery</td>\n",
       "    </tr>\n",
       "    <tr>\n",
       "      <th>5060</th>\n",
       "      <td>c9a5b1d0-97df-4b95-8bc1-fe7d4ae02cd8</td>\n",
       "      <td>Cambodia</td>\n",
       "      <td>majority</td>\n",
       "      <td>Import</td>\n",
       "      <td>6554</td>\n",
       "      <td>1216.07</td>\n",
       "      <td>23-12-2020</td>\n",
       "      <td>Machinery</td>\n",
       "      <td>Josephmouth</td>\n",
       "      <td>571507</td>\n",
       "      <td>3547.17</td>\n",
       "      <td>Air</td>\n",
       "      <td>Ferguson-Edwards</td>\n",
       "      <td>Benjamin Lee</td>\n",
       "      <td>75299200</td>\n",
       "      <td>Prepaid</td>\n",
       "    </tr>\n",
       "    <tr>\n",
       "      <th>12358</th>\n",
       "      <td>88262b2b-19c0-48a5-8bb2-b39283f8665c</td>\n",
       "      <td>Samoa</td>\n",
       "      <td>onto</td>\n",
       "      <td>Import</td>\n",
       "      <td>2861</td>\n",
       "      <td>7985.70</td>\n",
       "      <td>06-08-2024</td>\n",
       "      <td>Clothing</td>\n",
       "      <td>Matthewside</td>\n",
       "      <td>711258</td>\n",
       "      <td>2712.89</td>\n",
       "      <td>Sea</td>\n",
       "      <td>Hill, Diaz and Taylor</td>\n",
       "      <td>Mr. Richard Holmes</td>\n",
       "      <td>36013549</td>\n",
       "      <td>Cash on Delivery</td>\n",
       "    </tr>\n",
       "  </tbody>\n",
       "</table>\n",
       "</div>"
      ],
      "text/plain": [
       "                             Transaction_ID        Country   Product  \\\n",
       "3581   2645f7dd-216c-4bc3-892a-2222819e5646     Luxembourg     white   \n",
       "9663   fce3de29-0a78-4854-8211-83e86e09ff08  Faroe Islands      pass   \n",
       "4807   e3ac24bc-c6fc-46ee-8e27-8f2e25b7d199       Ethiopia   measure   \n",
       "5060   c9a5b1d0-97df-4b95-8bc1-fe7d4ae02cd8       Cambodia  majority   \n",
       "12358  88262b2b-19c0-48a5-8bb2-b39283f8665c          Samoa      onto   \n",
       "\n",
       "      Import_Export  Quantity    Value        Date   Category  \\\n",
       "3581         Import      4691  7532.40  12-02-2022       Toys   \n",
       "9663         Export      7056  6278.95  20-10-2021   Clothing   \n",
       "4807         Export      7752  3834.44  31-03-2024  Furniture   \n",
       "5060         Import      6554  1216.07  23-12-2020  Machinery   \n",
       "12358        Import      2861  7985.70  06-08-2024   Clothing   \n",
       "\n",
       "                  Port  Customs_Code   Weight Shipping_Method  \\\n",
       "3581   Lake Tammymouth        959194   529.26             Air   \n",
       "9663      West Matthew        677032  3043.56             Air   \n",
       "4807       Watsonburgh        199736  4134.48             Air   \n",
       "5060       Josephmouth        571507  3547.17             Air   \n",
       "12358      Matthewside        711258  2712.89             Sea   \n",
       "\n",
       "                       Supplier            Customer  Invoice_Number  \\\n",
       "3581                   Reed Inc   Kristina Fletcher        53763977   \n",
       "9663            Kaufman-Leonard        Ashley Grant          174783   \n",
       "4807   Price, Johnson and Green     Krystal Johnson        26472909   \n",
       "5060           Ferguson-Edwards        Benjamin Lee        75299200   \n",
       "12358     Hill, Diaz and Taylor  Mr. Richard Holmes        36013549   \n",
       "\n",
       "          Payment_Terms  \n",
       "3581   Cash on Delivery  \n",
       "9663   Cash on Delivery  \n",
       "4807   Cash on Delivery  \n",
       "5060            Prepaid  \n",
       "12358  Cash on Delivery  "
      ]
     },
     "execution_count": 2,
     "metadata": {},
     "output_type": "execute_result"
    }
   ],
   "source": [
    "import pandas as pd\n",
    "import numpy as np \n",
    "from scipy.stats import chi2_contingency\n",
    "from itertools import combinations\n",
    "\n",
    "# Load the CSV file\n",
    "df = pd.read_csv(\"C:\\\\Users\\\\amart\\\\OneDrive\\\\Desktop\\\\python data set individual project.csv\")\n",
    "\n",
    "# Generate 3001 random records\n",
    "random_df = df.sample(n=3001, random_state=55053)\n",
    "\n",
    "# View the first few records to ensure the dataset is correct\n",
    "random_df.head()"
   ]
  },
  {
   "cell_type": "code",
   "execution_count": 4,
   "id": "27d019f2-b18a-47b2-ae52-af2fc19dca5c",
   "metadata": {},
   "outputs": [],
   "source": [
    "# Identify categorical columns\n",
    "categorical_columns = df.select_dtypes(include=['object', 'category']).columns.tolist()"
   ]
  },
  {
   "cell_type": "code",
   "execution_count": 5,
   "id": "f1fc5e4b-88ec-4525-a6c0-b18dc831de24",
   "metadata": {},
   "outputs": [],
   "source": [
    "# Identify non-categorical columns\n",
    "non_categorical_columns = df.select_dtypes(include=[np.number]).columns.tolist()"
   ]
  },
  {
   "cell_type": "code",
   "execution_count": 6,
   "id": "e9365fff-a7e7-47c5-bd4a-d87116ace083",
   "metadata": {},
   "outputs": [
    {
     "name": "stdout",
     "output_type": "stream",
     "text": [
      "Categorical Columns: ['Transaction_ID', 'Country', 'Product', 'Import_Export', 'Date', 'Category', 'Port', 'Shipping_Method', 'Supplier', 'Customer', 'Payment_Terms']\n",
      "Non-Categorical Columns: ['Quantity', 'Value', 'Customs_Code', 'Weight', 'Invoice_Number']\n"
     ]
    }
   ],
   "source": [
    "# Split into categorical and non-categorical datasets\n",
    "categorical_df = df[categorical_columns]\n",
    "non_categorical_df = df[non_categorical_columns]\n",
    "\n",
    "# Display the categorical and non-categorical columns\n",
    "print(\"Categorical Columns:\", categorical_columns)\n",
    "print(\"Non-Categorical Columns:\", non_categorical_columns)\n"
   ]
  },
  {
   "cell_type": "code",
   "execution_count": 7,
   "id": "d945f107-4704-4baa-b3ed-ddb21ed76cc4",
   "metadata": {},
   "outputs": [
    {
     "name": "stdout",
     "output_type": "stream",
     "text": [
      "\n",
      "Descriptive Statistics for Non-Categorical Data:\n",
      "            Quantity        Value   Customs_Code       Weight  Invoice_Number\n",
      "count   3001.000000  3001.000000    3001.000000  3001.000000    3.001000e+03\n",
      "mean    4966.325225  5099.622026  548126.454515  2527.411503    5.061392e+07\n",
      "std     2892.431940  2854.921821  260426.790242  1481.846600    2.900852e+07\n",
      "min        9.000000   102.870000  100147.000000     1.980000    4.795400e+04\n",
      "25%     2449.000000  2592.190000  325196.000000  1236.060000    2.539002e+07\n",
      "50%     4896.000000  5144.140000  538111.000000  2529.120000    5.104907e+07\n",
      "75%     7488.000000  7578.340000  774456.000000  3847.740000    7.557254e+07\n",
      "max    10000.000000  9991.770000  999768.000000  4999.930000    9.999503e+07\n"
     ]
    }
   ],
   "source": [
    "# Descriptive statistics for non-categorical data\n",
    "descriptive_stats = random_df[non_categorical_columns].describe()\n",
    "print(\"\\nDescriptive Statistics for Non-Categorical Data:\\n\", descriptive_stats)"
   ]
  },
  {
   "cell_type": "code",
   "execution_count": 11,
   "id": "ed64a246-7cec-4177-9838-30c93811007e",
   "metadata": {},
   "outputs": [
    {
     "name": "stdout",
     "output_type": "stream",
     "text": [
      "\n",
      "Descriptive Statistics for Categorical Data:\n",
      "                               Transaction_ID Country Product Import_Export  \\\n",
      "count                                   3001    3001    3001          3001   \n",
      "unique                                  3001     243     922             2   \n",
      "top     2645f7dd-216c-4bc3-892a-2222819e5646   Congo  family        Import   \n",
      "freq                                       1      27      10          1509   \n",
      "\n",
      "              Date   Category          Port Shipping_Method      Supplier  \\\n",
      "count         3001       3001          3001            3001          3001   \n",
      "unique        1481          5          2702               3          2810   \n",
      "top     16-01-2022  Furniture  South Robert             Sea  Williams Ltd   \n",
      "freq             6        635             6            1047             8   \n",
      "\n",
      "           Customer     Payment_Terms  \n",
      "count          3001              3001  \n",
      "unique         2936                 4  \n",
      "top     James Jones  Cash on Delivery  \n",
      "freq              3               805  \n"
     ]
    }
   ],
   "source": [
    "# Descriptive statistics for categorical data \n",
    "descriptive_stats = random_df[categorical_columns].describe()\n",
    "print(\"\\nDescriptive Statistics for Categorical Data:\\n\", descriptive_stats)"
   ]
  },
  {
   "cell_type": "code",
   "execution_count": 12,
   "id": "7628d2ce-ddf8-411e-a29a-605a69ead7c1",
   "metadata": {},
   "outputs": [
    {
     "name": "stdout",
     "output_type": "stream",
     "text": [
      "\n",
      "--- Measures of Dispersion for Non-Categorical Data ---\n",
      "\n",
      "Range:\n",
      " Quantity              9991.00\n",
      "Value                 9888.90\n",
      "Customs_Code        899621.00\n",
      "Weight                4997.95\n",
      "Invoice_Number    99947074.00\n",
      "dtype: float64\n",
      "\n",
      "Standard Deviation:\n",
      " Quantity          2.892432e+03\n",
      "Value             2.854922e+03\n",
      "Customs_Code      2.604268e+05\n",
      "Weight            1.481847e+03\n",
      "Invoice_Number    2.900852e+07\n",
      "dtype: float64\n",
      "\n",
      "Skewness:\n",
      " Quantity          0.031585\n",
      "Value            -0.006424\n",
      "Customs_Code      0.042966\n",
      "Weight            0.010450\n",
      "Invoice_Number   -0.033139\n",
      "dtype: float64\n",
      "\n",
      "Kurtosis:\n",
      " Quantity         -1.190807\n",
      "Value            -1.187572\n",
      "Customs_Code     -1.192291\n",
      "Weight           -1.248965\n",
      "Invoice_Number   -1.209338\n",
      "dtype: float64\n",
      "\n",
      "Correlation Matrix:\n",
      "                 Quantity     Value  Customs_Code    Weight  Invoice_Number\n",
      "Quantity        1.000000 -0.002902      0.014763  0.013375       -0.004807\n",
      "Value          -0.002902  1.000000      0.025066 -0.011926        0.036466\n",
      "Customs_Code    0.014763  0.025066      1.000000 -0.008110        0.004439\n",
      "Weight          0.013375 -0.011926     -0.008110  1.000000        0.004943\n",
      "Invoice_Number -0.004807  0.036466      0.004439  0.004943        1.000000\n"
     ]
    }
   ],
   "source": [
    "# Range \n",
    "range_values = random_df[non_categorical_columns].max() - random_df[non_categorical_columns].min()\n",
    "\n",
    "# Standard Deviation\n",
    "std_dev = random_df[non_categorical_columns].std()\n",
    "\n",
    "# Skewness\n",
    "skewness = random_df[non_categorical_columns].skew()\n",
    "\n",
    "# Kurtosis\n",
    "kurtosis = random_df[non_categorical_columns].kurt()\n",
    "\n",
    "# Correlation Matrix\n",
    "correlation_matrix = random_df[non_categorical_columns].corr()\n",
    "\n",
    "# Print the measures of dispersion\n",
    "print(\"\\n--- Measures of Dispersion for Non-Categorical Data ---\")\n",
    "print(\"\\nRange:\\n\", range_values)\n",
    "print(\"\\nStandard Deviation:\\n\", std_dev)\n",
    "print(\"\\nSkewness:\\n\", skewness)\n",
    "print(\"\\nKurtosis:\\n\", kurtosis)\n",
    "print(\"\\nCorrelation Matrix:\\n\", correlation_matrix)"
   ]
  },
  {
   "cell_type": "code",
   "execution_count": 13,
   "id": "4b7d9317-b290-4d36-94c5-bb6ad2067aa5",
   "metadata": {},
   "outputs": [
    {
     "name": "stdout",
     "output_type": "stream",
     "text": [
      "             Column  Count  Frequency  Proportion Minimum Maximum  \\\n",
      "0    Transaction_ID  15000          1    0.000067     N/A     N/A   \n",
      "1           Country  15000        133    0.008867     N/A     N/A   \n",
      "2           Product  15000         28    0.001867     N/A     N/A   \n",
      "3     Import_Export  15000       7569    0.504600     N/A     N/A   \n",
      "4              Date  15000         19    0.001267     N/A     N/A   \n",
      "5          Category  15000       3048    0.203200     N/A     N/A   \n",
      "6              Port  15000         20    0.001333     N/A     N/A   \n",
      "7   Shipping_Method  15000       5054    0.336933     N/A     N/A   \n",
      "8          Supplier  15000         21    0.001400     N/A     N/A   \n",
      "9          Customer  15000          8    0.000533     N/A     N/A   \n",
      "10    Payment_Terms  15000       3831    0.255400     N/A     N/A   \n",
      "\n",
      "                                    Mode    Rank  \n",
      "0   00073cc2-c801-467c-9039-fca63c78c6a9  7500.5  \n",
      "1                                  Congo     1.0  \n",
      "2                                 family     1.0  \n",
      "3                                 Import     1.0  \n",
      "4                             17-06-2022     1.0  \n",
      "5                               Clothing     1.0  \n",
      "6                           Lake Michael     1.5  \n",
      "7                                    Sea     1.0  \n",
      "8                            Johnson PLC     1.0  \n",
      "9                         Michael Miller     1.0  \n",
      "10                      Cash on Delivery     1.0  \n",
      "\n",
      "Correlation Matrix:\n",
      "                 Transaction_ID   Country   Product  Import_Export      Date  \\\n",
      "Transaction_ID         1.000000 -0.001180  0.006125      -0.000934 -0.009832   \n",
      "Country               -0.001180  1.000000 -0.009690      -0.004973  0.001268   \n",
      "Product                0.006125 -0.009690  1.000000       0.011609  0.012269   \n",
      "Import_Export         -0.000934 -0.004973  0.011609       1.000000  0.017068   \n",
      "Date                  -0.009832  0.001268  0.012269       0.017068  1.000000   \n",
      "Category               0.008308 -0.001236  0.012962      -0.000479 -0.004973   \n",
      "Port                   0.016419  0.018212 -0.001351      -0.006715 -0.000769   \n",
      "Shipping_Method       -0.002231 -0.001889  0.005676      -0.021304  0.002841   \n",
      "Supplier              -0.009712  0.002958  0.011451      -0.009256  0.000047   \n",
      "Customer              -0.012222  0.008980  0.006178       0.001379  0.006184   \n",
      "Payment_Terms         -0.002203 -0.005132  0.003857      -0.001508  0.004368   \n",
      "\n",
      "                 Category      Port  Shipping_Method  Supplier  Customer  \\\n",
      "Transaction_ID   0.008308  0.016419        -0.002231 -0.009712 -0.012222   \n",
      "Country         -0.001236  0.018212        -0.001889  0.002958  0.008980   \n",
      "Product          0.012962 -0.001351         0.005676  0.011451  0.006178   \n",
      "Import_Export   -0.000479 -0.006715        -0.021304 -0.009256  0.001379   \n",
      "Date            -0.004973 -0.000769         0.002841  0.000047  0.006184   \n",
      "Category         1.000000  0.013183        -0.003454 -0.001250  0.004870   \n",
      "Port             0.013183  1.000000        -0.000922 -0.008030 -0.001417   \n",
      "Shipping_Method -0.003454 -0.000922         1.000000 -0.011069  0.009850   \n",
      "Supplier        -0.001250 -0.008030        -0.011069  1.000000 -0.000873   \n",
      "Customer         0.004870 -0.001417         0.009850 -0.000873  1.000000   \n",
      "Payment_Terms    0.008934  0.001128         0.006800  0.008461  0.007024   \n",
      "\n",
      "                 Payment_Terms  \n",
      "Transaction_ID       -0.002203  \n",
      "Country              -0.005132  \n",
      "Product               0.003857  \n",
      "Import_Export        -0.001508  \n",
      "Date                  0.004368  \n",
      "Category              0.008934  \n",
      "Port                  0.001128  \n",
      "Shipping_Method       0.006800  \n",
      "Supplier              0.008461  \n",
      "Customer              0.007024  \n",
      "Payment_Terms         1.000000  \n"
     ]
    }
   ],
   "source": [
    "# Initialize a dictionary to store analysis data\n",
    "analysis_data = {\n",
    "    'Column': [],\n",
    "    'Count': [],\n",
    "    'Frequency': [],\n",
    "    'Proportion': [],\n",
    "    'Minimum': [],\n",
    "    'Maximum': [],\n",
    "    'Mode': [],\n",
    "    'Rank': []\n",
    "}\n",
    "\n",
    "# Analysis of categorical columns in tabular form\n",
    "for col in categorical_columns:\n",
    "    analysis_data['Column'].append(col)\n",
    "    \n",
    "    # 1. Count of non-null entries\n",
    "    count = categorical_df[col].count()\n",
    "    analysis_data['Count'].append(count)\n",
    "    \n",
    "    # 2. Frequency of the most frequent value\n",
    "    frequency = categorical_df[col].value_counts().max()\n",
    "    analysis_data['Frequency'].append(frequency)\n",
    "    \n",
    "    # 3. Proportion of the most frequent value\n",
    "    proportion = categorical_df[col].value_counts(normalize=True).max()\n",
    "    analysis_data['Proportion'].append(proportion)\n",
    "    \n",
    "    # 4. Minimum and Maximum (for numeric-like categorical columns, if applicable)\n",
    "    if pd.api.types.is_numeric_dtype(df[col]):\n",
    "        min_val = categorical_df[col].min()\n",
    "        max_val = categorical_df[col].max()\n",
    "        analysis_data['Minimum'].append(min_val)\n",
    "        analysis_data['Maximum'].append(max_val)\n",
    "    else:\n",
    "        analysis_data['Minimum'].append('N/A')\n",
    "        analysis_data['Maximum'].append('N/A')\n",
    "    \n",
    "    # 5. Mode (Most frequent value)\n",
    "    mode = categorical_df[col].mode()[0]\n",
    "    analysis_data['Mode'].append(mode)\n",
    "    \n",
    "    # 6. Rank based on frequency\n",
    "    rank = categorical_df[col].value_counts().rank(ascending=False).iloc[0]\n",
    "    analysis_data['Rank'].append(rank)\n",
    "\n",
    "# Convert the dictionary to a DataFrame for tabular output\n",
    "analysis_df = pd.DataFrame(analysis_data)\n",
    "\n",
    "# Display the analysis as a table\n",
    "print(analysis_df)\n",
    "\n",
    "# Correlation between categorical variables (in tabular format)\n",
    "# Convert categorical columns to numeric codes for correlation analysis\n",
    "cat_codes = categorical_df.apply(lambda x: x.astype('category').cat.codes)\n",
    "\n",
    "# Correlation matrix for categorical columns\n",
    "corr_matrix = cat_codes.corr()\n",
    "\n",
    "# Display the correlation matrix\n",
    "print(\"\\nCorrelation Matrix:\")\n",
    "print(corr_matrix)"
   ]
  },
  {
   "cell_type": "code",
   "execution_count": 14,
   "id": "90b4e75f-af53-44a9-ae37-9f8a10318bd7",
   "metadata": {},
   "outputs": [
    {
     "name": "stdout",
     "output_type": "stream",
     "text": [
      "           Column          Mean  Standard Deviation  \\\n",
      "0        Quantity  4.980555e+03        2.866167e+03   \n",
      "1           Value  5.032931e+03        2.857594e+03   \n",
      "2    Customs_Code  5.495080e+05        2.608869e+05   \n",
      "3          Weight  2.492119e+03        1.451379e+03   \n",
      "4  Invoice_Number  5.020677e+07        2.889888e+07   \n",
      "\n",
      "   Coefficient of Variation (CV)  95% Confidence Interval (Lower)  \\\n",
      "0                       0.575471                     4.934687e+03   \n",
      "1                       0.567779                     4.987201e+03   \n",
      "2                       0.474765                     5.453330e+05   \n",
      "3                       0.582387                     2.468892e+03   \n",
      "4                       0.575597                     4.974430e+07   \n",
      "\n",
      "   95% Confidence Interval (Upper)  \n",
      "0                     5.026422e+03  \n",
      "1                     5.078661e+03  \n",
      "2                     5.536829e+05  \n",
      "3                     2.515345e+03  \n",
      "4                     5.066924e+07  \n"
     ]
    }
   ],
   "source": [
    "from scipy import stats\n",
    "# Initialize a dictionary to store the results\n",
    "composite_measures = {\n",
    "    'Column': [],\n",
    "    'Mean': [],\n",
    "    'Standard Deviation': [],\n",
    "    'Coefficient of Variation (CV)': [],\n",
    "    '95% Confidence Interval (Lower)': [],\n",
    "    '95% Confidence Interval (Upper)': []\n",
    "}\n",
    "\n",
    "# Calculate composite measures for each non-categorical column\n",
    "for col in non_categorical_columns:\n",
    "    mean_val = df[col].mean()\n",
    "    std_dev = df[col].std()\n",
    "    count = df[col].count()\n",
    "    \n",
    "    # Coefficient of Variation (CV)\n",
    "    cv = std_dev / mean_val\n",
    "    \n",
    "    # Confidence Interval (95%)\n",
    "    confidence_level = 0.95\n",
    "    z_value = stats.norm.ppf((1 + confidence_level) / 2)  # Z-score for 95% confidence\n",
    "    margin_of_error = z_value * (std_dev / np.sqrt(count))\n",
    "    ci_lower = mean_val - margin_of_error\n",
    "    ci_upper = mean_val + margin_of_error\n",
    "    \n",
    "    # Store the results\n",
    "    composite_measures['Column'].append(col)\n",
    "    composite_measures['Mean'].append(mean_val)\n",
    "    composite_measures['Standard Deviation'].append(std_dev)\n",
    "    composite_measures['Coefficient of Variation (CV)'].append(cv)\n",
    "    composite_measures['95% Confidence Interval (Lower)'].append(ci_lower)\n",
    "    composite_measures['95% Confidence Interval (Upper)'].append(ci_upper)\n",
    "\n",
    "# Convert the dictionary into a DataFrame for tabular display\n",
    "composite_measures_df = pd.DataFrame(composite_measures)\n",
    "\n",
    "# Display the results as a table\n",
    "print(composite_measures_df)"
   ]
  },
  {
   "cell_type": "code",
   "execution_count": 15,
   "id": "20bdcf5b-f722-4979-a8bd-a689bd080504",
   "metadata": {},
   "outputs": [
    {
     "name": "stdout",
     "output_type": "stream",
     "text": [
      "T-test Statistic: -1.5849450669854537, P-value: 0.1129893567049956\n"
     ]
    }
   ],
   "source": [
    "from scipy.stats import ttest_ind\n",
    "\n",
    "# Independent t-test between Quantity and Value\n",
    "t_stat, p_value = ttest_ind(df['Quantity'], df['Value'])\n",
    "print(f\"T-test Statistic: {t_stat}, P-value: {p_value}\")"
   ]
  },
  {
   "cell_type": "code",
   "execution_count": 16,
   "id": "750548b6-4789-470b-85e4-be1b7853beb0",
   "metadata": {},
   "outputs": [
    {
     "name": "stdout",
     "output_type": "stream",
     "text": [
      "ANOVA F-Statistic: 0.2990216089664796, P-value: 0.8787372680249909\n"
     ]
    }
   ],
   "source": [
    "from scipy.stats import f_oneway\n",
    "\n",
    "# Perform ANOVA on different categories (Group by Category and compare Quantity)\n",
    "groups = [df['Quantity'][df['Category'] == category] for category in df['Category'].unique()]\n",
    "f_stat, p_value = f_oneway(*groups)\n",
    "print(f\"ANOVA F-Statistic: {f_stat}, P-value: {p_value}\")"
   ]
  },
  {
   "cell_type": "code",
   "execution_count": 17,
   "id": "812adb1c-21a9-4114-a21f-4635299f558c",
   "metadata": {},
   "outputs": [
    {
     "name": "stdout",
     "output_type": "stream",
     "text": [
      "Levene’s Statistic: 0.1683953325598296, P-value: 0.6815448123110948\n"
     ]
    }
   ],
   "source": [
    "from scipy.stats import levene\n",
    "\n",
    "# Levene’s test for equal variance between Quantity and Value\n",
    "stat, p_value = levene(df['Quantity'], df['Value'])\n",
    "print(f\"Levene’s Statistic: {stat}, P-value: {p_value}\")"
   ]
  },
  {
   "cell_type": "code",
   "execution_count": 18,
   "id": "7bf1e1db-fe43-48f2-b662-f3217d6fd574",
   "metadata": {},
   "outputs": [
    {
     "name": "stdout",
     "output_type": "stream",
     "text": [
      "Bartlett’s Statistic: 0.1345827997059782, P-value: 0.7137269672324467\n"
     ]
    }
   ],
   "source": [
    "from scipy.stats import bartlett\n",
    "\n",
    "# Bartlett’s test for equal variance between Quantity and Value\n",
    "stat, p_value = bartlett(df['Quantity'], df['Value'])\n",
    "print(f\"Bartlett’s Statistic: {stat}, P-value: {p_value}\")"
   ]
  },
  {
   "cell_type": "code",
   "execution_count": 19,
   "id": "bb45989b-c5c8-4a12-97e6-2ba0d1b3f73c",
   "metadata": {},
   "outputs": [
    {
     "name": "stdout",
     "output_type": "stream",
     "text": [
      "Z-test Statistic: -0.7217202345286419, P-value: 0.47046649899058324\n"
     ]
    }
   ],
   "source": [
    "from statsmodels.stats.proportion import proportions_ztest\n",
    "\n",
    "# z-test for proportions (e.g., between two shipping methods)\n",
    "count = [df['Shipping_Method'].value_counts()['Air'], df['Shipping_Method'].value_counts()['Sea']]\n",
    "nobs = [df['Shipping_Method'].count(), df['Shipping_Method'].count()]\n",
    "stat, p_value = proportions_ztest(count, nobs)\n",
    "print(f\"Z-test Statistic: {stat}, P-value: {p_value}\")"
   ]
  },
  {
   "cell_type": "code",
   "execution_count": 20,
   "id": "17dd5c3f-752b-4ab9-9467-de664a83cb9d",
   "metadata": {},
   "outputs": [
    {
     "name": "stdout",
     "output_type": "stream",
     "text": [
      "Chi-square Statistic: 233796.6910236458, P-value: 0.9158357435731135\n"
     ]
    }
   ],
   "source": [
    "from scipy.stats import chi2_contingency\n",
    "\n",
    "# Chi-square test between Country and Product\n",
    "contingency_table = pd.crosstab(df['Country'], df['Product'])\n",
    "chi2_stat, p_value, dof, expected = chi2_contingency(contingency_table)\n",
    "print(f\"Chi-square Statistic: {chi2_stat}, P-value: {p_value}\")"
   ]
  },
  {
   "cell_type": "code",
   "execution_count": 21,
   "id": "c23610d9-69d6-4ce4-a6f8-0ba9ab1773f7",
   "metadata": {},
   "outputs": [
    {
     "name": "stdout",
     "output_type": "stream",
     "text": [
      "Correlation Coefficient: -0.0028762479470604355, P-value: 0.7246595079319986\n"
     ]
    }
   ],
   "source": [
    "from scipy.stats import pearsonr\n",
    "\n",
    "# Pearson correlation test between Quantity and Value\n",
    "corr_coeff, p_value = pearsonr(df['Quantity'], df['Value'])\n",
    "print(f\"Correlation Coefficient: {corr_coeff}, P-value: {p_value}\")"
   ]
  },
  {
   "cell_type": "code",
   "execution_count": 22,
   "id": "839156f8-1f4e-42b2-b0be-3849703c00d7",
   "metadata": {},
   "outputs": [
    {
     "name": "stdout",
     "output_type": "stream",
     "text": [
      "Shapiro-Wilk Statistic: 0.9567630851274996, P-value: 2.9092870668660095e-54\n"
     ]
    },
    {
     "name": "stderr",
     "output_type": "stream",
     "text": [
      "C:\\Users\\amart\\anaconda3\\Lib\\site-packages\\scipy\\stats\\_axis_nan_policy.py:531: UserWarning: scipy.stats.shapiro: For N > 5000, computed p-value may not be accurate. Current N is 15000.\n",
      "  res = hypotest_fun_out(*samples, **kwds)\n"
     ]
    }
   ],
   "source": [
    "from scipy.stats import shapiro\n",
    "\n",
    "# Shapiro-Wilk test for normality in Quantity\n",
    "stat, p_value = shapiro(df['Quantity'])\n",
    "print(f\"Shapiro-Wilk Statistic: {stat}, P-value: {p_value}\")"
   ]
  },
  {
   "cell_type": "code",
   "execution_count": 23,
   "id": "83916f7b-9abb-4ac5-adfa-85ba780ce830",
   "metadata": {},
   "outputs": [
    {
     "name": "stdout",
     "output_type": "stream",
     "text": [
      "Kolmogorov-Smirnov Statistic: 0.9998663800150948, P-value: 0.0\n"
     ]
    }
   ],
   "source": [
    "from scipy.stats import kstest\n",
    "\n",
    "# Kolmogorov-Smirnov test for normality in Quantity\n",
    "stat, p_value = kstest(df['Quantity'], 'norm')\n",
    "print(f\"Kolmogorov-Smirnov Statistic: {stat}, P-value: {p_value}\")"
   ]
  },
  {
   "cell_type": "code",
   "execution_count": 24,
   "id": "0df6e1e2-6ef4-46cc-a602-1bed72a3a69b",
   "metadata": {},
   "outputs": [
    {
     "name": "stdout",
     "output_type": "stream",
     "text": [
      "Mann-Whitney U Statistic: 28338040.5, P-value: 0.4165570432895699\n"
     ]
    }
   ],
   "source": [
    "from scipy.stats import mannwhitneyu\n",
    "\n",
    "# Mann-Whitney U test comparing Quantity between Import and Export\n",
    "group1 = df[df['Import_Export'] == 'Import']['Quantity']\n",
    "group2 = df[df['Import_Export'] == 'Export']['Quantity']\n",
    "stat, p_value = mannwhitneyu(group1, group2)\n",
    "print(f\"Mann-Whitney U Statistic: {stat}, P-value: {p_value}\")"
   ]
  },
  {
   "cell_type": "code",
   "execution_count": 25,
   "id": "dcabde06-6c41-4799-a0fc-bedecd92cc1d",
   "metadata": {},
   "outputs": [
    {
     "name": "stdout",
     "output_type": "stream",
     "text": [
      "Kruskal-Wallis Statistic: 1.1772345044419383, P-value: 0.8818323970549906\n"
     ]
    }
   ],
   "source": [
    "from scipy.stats import kruskal\n",
    "\n",
    "# Kruskal-Wallis test for Quantity across different Categories\n",
    "groups = [df['Quantity'][df['Category'] == category] for category in df['Category'].unique()]\n",
    "stat, p_value = kruskal(*groups)\n",
    "print(f\"Kruskal-Wallis Statistic: {stat}, P-value: {p_value}\")"
   ]
  },
  {
   "cell_type": "code",
   "execution_count": 26,
   "id": "8a381918-ff65-42e1-85b0-9e5fbd6de81f",
   "metadata": {},
   "outputs": [
    {
     "name": "stdout",
     "output_type": "stream",
     "text": [
      "                            OLS Regression Results                            \n",
      "==============================================================================\n",
      "Dep. Variable:                  Value   R-squared:                       0.000\n",
      "Model:                            OLS   Adj. R-squared:                 -0.000\n",
      "Method:                 Least Squares   F-statistic:                    0.1241\n",
      "Date:                Sun, 06 Oct 2024   Prob (F-statistic):              0.725\n",
      "Time:                        19:33:05   Log-Likelihood:            -1.4065e+05\n",
      "No. Observations:               15000   AIC:                         2.813e+05\n",
      "Df Residuals:                   14998   BIC:                         2.813e+05\n",
      "Df Model:                           1                                         \n",
      "Covariance Type:            nonrobust                                         \n",
      "==============================================================================\n",
      "                 coef    std err          t      P>|t|      [0.025      0.975]\n",
      "------------------------------------------------------------------------------\n",
      "const       5047.2136     46.781    107.890      0.000    4955.517    5138.910\n",
      "Quantity      -0.0029      0.008     -0.352      0.725      -0.019       0.013\n",
      "==============================================================================\n",
      "Omnibus:                    12382.048   Durbin-Watson:                   2.018\n",
      "Prob(Omnibus):                  0.000   Jarque-Bera (JB):              890.393\n",
      "Skew:                           0.008   Prob(JB):                    4.50e-194\n",
      "Kurtosis:                       1.807   Cond. No.                     1.15e+04\n",
      "==============================================================================\n",
      "\n",
      "Notes:\n",
      "[1] Standard Errors assume that the covariance matrix of the errors is correctly specified.\n",
      "[2] The condition number is large, 1.15e+04. This might indicate that there are\n",
      "strong multicollinearity or other numerical problems.\n"
     ]
    }
   ],
   "source": [
    "import statsmodels.api as sm\n",
    "\n",
    "# Define the independent (X) and dependent (Y) variables\n",
    "X = df['Quantity']\n",
    "Y = df['Value']\n",
    "\n",
    "# Add a constant to the independent variable (required for intercept in statsmodels)\n",
    "X = sm.add_constant(X)\n",
    "\n",
    "# Fit the linear regression model\n",
    "model = sm.OLS(Y, X).fit()\n",
    "\n",
    "# Print the summary of the regression\n",
    "print(model.summary())"
   ]
  },
  {
   "cell_type": "code",
   "execution_count": 27,
   "id": "766d27c3-3afd-478a-9edb-a3e0550d5e53",
   "metadata": {},
   "outputs": [
    {
     "name": "stdout",
     "output_type": "stream",
     "text": [
      "Coefficients: [ 0.00000000e+00  1.63459123e-02 -1.91827039e-06]\n",
      "Intercept: 5014.861252168136\n"
     ]
    }
   ],
   "source": [
    "import numpy as np\n",
    "from sklearn.preprocessing import PolynomialFeatures\n",
    "from sklearn.linear_model import LinearRegression\n",
    "\n",
    "# Define the independent (X) and dependent (Y) variables\n",
    "X = df[['Quantity']]\n",
    "Y = df['Value']\n",
    "\n",
    "# Create polynomial features (degree 2 for quadratic)\n",
    "poly = PolynomialFeatures(degree=2)\n",
    "X_poly = poly.fit_transform(X)\n",
    "\n",
    "# Fit the polynomial regression model\n",
    "model = LinearRegression().fit(X_poly, Y)\n",
    "\n",
    "# Print coefficients and intercept\n",
    "print(\"Coefficients:\", model.coef_)\n",
    "print(\"Intercept:\", model.intercept_)\n",
    "\n",
    "# Predict values\n",
    "Y_pred = model.predict(X_poly)"
   ]
  },
  {
   "cell_type": "code",
   "execution_count": 28,
   "id": "6c7b4e28-515c-42da-bbf9-6bfdc1d42010",
   "metadata": {},
   "outputs": [
    {
     "name": "stdout",
     "output_type": "stream",
     "text": [
      "                                  Transaction_ID         Country   Product  \\\n",
      "Date                                                                         \n",
      "2019-09-07  1b966375-c291-4bf1-9004-5f63a53c7195   Cote d'Ivoire       ask   \n",
      "2019-09-07  2732acd6-2f34-4ad2-a688-f05e7e6f332d         Burundi      hard   \n",
      "2019-09-07  c0bb3a74-e5dc-4bf5-896a-3496066308ca  Cayman Islands     happy   \n",
      "2019-09-07  691e4c70-752b-48f6-97f2-063bd09e39b5         Moldova  attorney   \n",
      "2019-09-07  4f5ac05c-2a83-4718-8d49-f4838a447865           Ghana     build   \n",
      "\n",
      "           Import_Export  Quantity    Value   Category               Port  \\\n",
      "Date                                                                        \n",
      "2019-09-07        Export       365  8035.52  Machinery         Suarezland   \n",
      "2019-09-07        Import       654  5527.36  Machinery  East Lindsayshire   \n",
      "2019-09-07        Export      8867  4142.66   Clothing          Debrafurt   \n",
      "2019-09-07        Import      3353  3286.39  Furniture          Patelfurt   \n",
      "2019-09-07        Import      9156  3167.02       Toys         New Ashley   \n",
      "\n",
      "            Customs_Code   Weight Shipping_Method                   Supplier  \\\n",
      "Date                                                                           \n",
      "2019-09-07        814620  1768.97            Land          Gardner-Rodriguez   \n",
      "2019-09-07        776007  4199.54            Land      Owens, Reyes and Rowe   \n",
      "2019-09-07        468211   113.33             Air                Smith-Green   \n",
      "2019-09-07        423817  4095.20             Sea  Baird, Wright and Johnson   \n",
      "2019-09-07        946418  1515.40             Sea               Kennedy-Cook   \n",
      "\n",
      "                    Customer  Invoice_Number     Payment_Terms  \n",
      "Date                                                            \n",
      "2019-09-07     Alexis Barnes        25248525           Prepaid  \n",
      "2019-09-07     Lisa Oconnell        75628282  Cash on Delivery  \n",
      "2019-09-07  Jennifer Bridges        72277447           Prepaid  \n",
      "2019-09-07      Jeffrey Good        16676641            Net 60  \n",
      "2019-09-07      Joshua Olsen        50322891            Net 60  \n"
     ]
    }
   ],
   "source": [
    "# Convert Date column to datetime format, assuming the format is day-month-year\n",
    "df['Date'] = pd.to_datetime(df['Date'], dayfirst=True)\n",
    "\n",
    "# Sort by Date\n",
    "df = df.sort_values(by='Date')\n",
    "\n",
    "# Set Date as index (optional for time-series analysis)\n",
    "df.set_index('Date', inplace=True)\n",
    "\n",
    "# Display the updated dataframe\n",
    "print(df.head())"
   ]
  },
  {
   "cell_type": "code",
   "execution_count": 29,
   "id": "e14b2026-2794-4896-b1e8-9a5e600387f8",
   "metadata": {},
   "outputs": [
    {
     "name": "stdout",
     "output_type": "stream",
     "text": [
      "                            OLS Regression Results                            \n",
      "==============================================================================\n",
      "Dep. Variable:                  Value   R-squared:                       0.000\n",
      "Model:                            OLS   Adj. R-squared:                 -0.000\n",
      "Method:                 Least Squares   F-statistic:                    0.1241\n",
      "Date:                Sun, 06 Oct 2024   Prob (F-statistic):              0.725\n",
      "Time:                        19:33:07   Log-Likelihood:            -1.4065e+05\n",
      "No. Observations:               15000   AIC:                         2.813e+05\n",
      "Df Residuals:                   14998   BIC:                         2.813e+05\n",
      "Df Model:                           1                                         \n",
      "Covariance Type:            nonrobust                                         \n",
      "==============================================================================\n",
      "                 coef    std err          t      P>|t|      [0.025      0.975]\n",
      "------------------------------------------------------------------------------\n",
      "const       5047.2136     46.781    107.890      0.000    4955.517    5138.910\n",
      "Quantity      -0.0029      0.008     -0.352      0.725      -0.019       0.013\n",
      "==============================================================================\n",
      "Omnibus:                    12382.048   Durbin-Watson:                   2.022\n",
      "Prob(Omnibus):                  0.000   Jarque-Bera (JB):              890.393\n",
      "Skew:                           0.008   Prob(JB):                    4.50e-194\n",
      "Kurtosis:                       1.807   Cond. No.                     1.15e+04\n",
      "==============================================================================\n",
      "\n",
      "Notes:\n",
      "[1] Standard Errors assume that the covariance matrix of the errors is correctly specified.\n",
      "[2] The condition number is large, 1.15e+04. This might indicate that there are\n",
      "strong multicollinearity or other numerical problems.\n"
     ]
    }
   ],
   "source": [
    "# Define independent (X) and dependent (Y) variables\n",
    "X = df['Quantity']\n",
    "Y = df['Value']\n",
    "\n",
    "# Add a constant for intercept\n",
    "X = sm.add_constant(X)\n",
    "\n",
    "# Fit the regression model for time-series\n",
    "model = sm.OLS(Y, X).fit()\n",
    "\n",
    "# Print the summary of the regression\n",
    "print(model.summary())"
   ]
  },
  {
   "cell_type": "code",
   "execution_count": 30,
   "id": "2cc00ed4-beee-43b7-bc2f-dbd29d604631",
   "metadata": {},
   "outputs": [
    {
     "name": "stdout",
     "output_type": "stream",
     "text": [
      "Collecting linearmodels\n",
      "  Downloading linearmodels-6.1-cp312-cp312-win_amd64.whl.metadata (8.1 kB)\n",
      "Requirement already satisfied: numpy<3,>=1.22.3 in c:\\users\\amart\\anaconda3\\lib\\site-packages (from linearmodels) (1.26.4)\n",
      "Requirement already satisfied: pandas>=1.4.0 in c:\\users\\amart\\anaconda3\\lib\\site-packages (from linearmodels) (2.2.2)\n",
      "Requirement already satisfied: scipy>=1.8.0 in c:\\users\\amart\\anaconda3\\lib\\site-packages (from linearmodels) (1.13.1)\n",
      "Requirement already satisfied: statsmodels>=0.13.0 in c:\\users\\amart\\anaconda3\\lib\\site-packages (from linearmodels) (0.14.2)\n",
      "Requirement already satisfied: mypy-extensions>=0.4 in c:\\users\\amart\\anaconda3\\lib\\site-packages (from linearmodels) (1.0.0)\n",
      "Collecting Cython>=3.0.10 (from linearmodels)\n",
      "  Downloading Cython-3.0.11-cp312-cp312-win_amd64.whl.metadata (3.2 kB)\n",
      "Collecting pyhdfe>=0.1 (from linearmodels)\n",
      "  Downloading pyhdfe-0.2.0-py3-none-any.whl.metadata (4.0 kB)\n",
      "Collecting formulaic>=1.0.0 (from linearmodels)\n",
      "  Downloading formulaic-1.0.2-py3-none-any.whl.metadata (6.8 kB)\n",
      "Collecting setuptools-scm<9.0.0,>=8.0.0 (from setuptools-scm[toml]<9.0.0,>=8.0.0->linearmodels)\n",
      "  Downloading setuptools_scm-8.1.0-py3-none-any.whl.metadata (6.6 kB)\n",
      "Collecting interface-meta>=1.2.0 (from formulaic>=1.0.0->linearmodels)\n",
      "  Downloading interface_meta-1.3.0-py3-none-any.whl.metadata (6.7 kB)\n",
      "Requirement already satisfied: typing-extensions>=4.2.0 in c:\\users\\amart\\anaconda3\\lib\\site-packages (from formulaic>=1.0.0->linearmodels) (4.11.0)\n",
      "Requirement already satisfied: wrapt>=1.0 in c:\\users\\amart\\anaconda3\\lib\\site-packages (from formulaic>=1.0.0->linearmodels) (1.14.1)\n",
      "Requirement already satisfied: python-dateutil>=2.8.2 in c:\\users\\amart\\anaconda3\\lib\\site-packages (from pandas>=1.4.0->linearmodels) (2.9.0.post0)\n",
      "Requirement already satisfied: pytz>=2020.1 in c:\\users\\amart\\anaconda3\\lib\\site-packages (from pandas>=1.4.0->linearmodels) (2024.1)\n",
      "Requirement already satisfied: tzdata>=2022.7 in c:\\users\\amart\\anaconda3\\lib\\site-packages (from pandas>=1.4.0->linearmodels) (2023.3)\n",
      "Requirement already satisfied: packaging>=20 in c:\\users\\amart\\anaconda3\\lib\\site-packages (from setuptools-scm<9.0.0,>=8.0.0->setuptools-scm[toml]<9.0.0,>=8.0.0->linearmodels) (23.2)\n",
      "Requirement already satisfied: setuptools in c:\\users\\amart\\anaconda3\\lib\\site-packages (from setuptools-scm<9.0.0,>=8.0.0->setuptools-scm[toml]<9.0.0,>=8.0.0->linearmodels) (69.5.1)\n",
      "Requirement already satisfied: patsy>=0.5.6 in c:\\users\\amart\\anaconda3\\lib\\site-packages (from statsmodels>=0.13.0->linearmodels) (0.5.6)\n",
      "Requirement already satisfied: six in c:\\users\\amart\\anaconda3\\lib\\site-packages (from patsy>=0.5.6->statsmodels>=0.13.0->linearmodels) (1.16.0)\n",
      "Downloading linearmodels-6.1-cp312-cp312-win_amd64.whl (1.7 MB)\n",
      "   ---------------------------------------- 0.0/1.7 MB ? eta -:--:--\n",
      "    --------------------------------------- 0.0/1.7 MB 991.0 kB/s eta 0:00:02\n",
      "   ----------------- ---------------------- 0.7/1.7 MB 9.2 MB/s eta 0:00:01\n",
      "   ---------------------------------------- 1.7/1.7 MB 13.2 MB/s eta 0:00:00\n",
      "Downloading Cython-3.0.11-cp312-cp312-win_amd64.whl (2.8 MB)\n",
      "   ---------------------------------------- 0.0/2.8 MB ? eta -:--:--\n",
      "   ---------------------------------------- 2.8/2.8 MB 35.7 MB/s eta 0:00:00\n",
      "Downloading formulaic-1.0.2-py3-none-any.whl (94 kB)\n",
      "   ---------------------------------------- 0.0/94.5 kB ? eta -:--:--\n",
      "   ---------------------------------------- 94.5/94.5 kB 5.6 MB/s eta 0:00:00\n",
      "Downloading pyhdfe-0.2.0-py3-none-any.whl (19 kB)\n",
      "Downloading setuptools_scm-8.1.0-py3-none-any.whl (43 kB)\n",
      "   ---------------------------------------- 0.0/43.7 kB ? eta -:--:--\n",
      "   ---------------------------------------- 43.7/43.7 kB 2.2 MB/s eta 0:00:00\n",
      "Downloading interface_meta-1.3.0-py3-none-any.whl (14 kB)\n",
      "Installing collected packages: setuptools-scm, interface-meta, Cython, pyhdfe, formulaic, linearmodels\n",
      "Successfully installed Cython-3.0.11 formulaic-1.0.2 interface-meta-1.3.0 linearmodels-6.1 pyhdfe-0.2.0 setuptools-scm-8.1.0\n",
      "Note: you may need to restart the kernel to use updated packages.\n"
     ]
    }
   ],
   "source": [
    "pip install linearmodels"
   ]
  },
  {
   "cell_type": "code",
   "execution_count": 31,
   "id": "a82121b0-f5e7-4574-b32f-5a9daea02961",
   "metadata": {},
   "outputs": [
    {
     "name": "stdout",
     "output_type": "stream",
     "text": [
      "Index(['Transaction_ID', 'Country', 'Product', 'Import_Export', 'Quantity',\n",
      "       'Value', 'Category', 'Port', 'Customs_Code', 'Weight',\n",
      "       'Shipping_Method', 'Supplier', 'Customer', 'Invoice_Number',\n",
      "       'Payment_Terms'],\n",
      "      dtype='object')\n"
     ]
    },
    {
     "ename": "KeyError",
     "evalue": "\"Required columns 'Supplier' and 'Date' are missing from the DataFrame.\"",
     "output_type": "error",
     "traceback": [
      "\u001b[1;31m---------------------------------------------------------------------------\u001b[0m",
      "\u001b[1;31mKeyError\u001b[0m                                  Traceback (most recent call last)",
      "Cell \u001b[1;32mIn[31], line 18\u001b[0m\n\u001b[0;32m     16\u001b[0m     df \u001b[38;5;241m=\u001b[39m df\u001b[38;5;241m.\u001b[39mset_index([\u001b[38;5;124m'\u001b[39m\u001b[38;5;124mSupplier\u001b[39m\u001b[38;5;124m'\u001b[39m, \u001b[38;5;124m'\u001b[39m\u001b[38;5;124mDate\u001b[39m\u001b[38;5;124m'\u001b[39m])\n\u001b[0;32m     17\u001b[0m \u001b[38;5;28;01melse\u001b[39;00m:\n\u001b[1;32m---> 18\u001b[0m     \u001b[38;5;28;01mraise\u001b[39;00m \u001b[38;5;167;01mKeyError\u001b[39;00m(\u001b[38;5;124m\"\u001b[39m\u001b[38;5;124mRequired columns \u001b[39m\u001b[38;5;124m'\u001b[39m\u001b[38;5;124mSupplier\u001b[39m\u001b[38;5;124m'\u001b[39m\u001b[38;5;124m and \u001b[39m\u001b[38;5;124m'\u001b[39m\u001b[38;5;124mDate\u001b[39m\u001b[38;5;124m'\u001b[39m\u001b[38;5;124m are missing from the DataFrame.\u001b[39m\u001b[38;5;124m\"\u001b[39m)\n\u001b[0;32m     20\u001b[0m \u001b[38;5;66;03m# Define the independent (X) and dependent (Y) variables\u001b[39;00m\n\u001b[0;32m     21\u001b[0m \u001b[38;5;28;01mif\u001b[39;00m \u001b[38;5;124m'\u001b[39m\u001b[38;5;124mQuantity\u001b[39m\u001b[38;5;124m'\u001b[39m \u001b[38;5;129;01min\u001b[39;00m df\u001b[38;5;241m.\u001b[39mcolumns \u001b[38;5;129;01mand\u001b[39;00m \u001b[38;5;124m'\u001b[39m\u001b[38;5;124mValue\u001b[39m\u001b[38;5;124m'\u001b[39m \u001b[38;5;129;01min\u001b[39;00m df\u001b[38;5;241m.\u001b[39mcolumns:\n",
      "\u001b[1;31mKeyError\u001b[0m: \"Required columns 'Supplier' and 'Date' are missing from the DataFrame.\""
     ]
    }
   ],
   "source": [
    "# Import necessary libraries\n",
    "import pandas as pd\n",
    "import statsmodels.api as sm\n",
    "from linearmodels.panel import PanelOLS\n",
    "\n",
    "# Check if the DataFrame 'df' contains the required columns\n",
    "print(df.columns)  # This will display the actual column names\n",
    "\n",
    "# Ensure the required columns exist and are correctly named\n",
    "if 'Supplier' not in df.columns or 'Date' not in df.columns:\n",
    "    df = df.rename(columns={'supplier': 'Supplier', 'date': 'Date'})  # Adjust based on actual column names\n",
    "\n",
    "# Verify that the DataFrame now has the correct columns for multi-indexing\n",
    "if 'Supplier' in df.columns and 'Date' in df.columns:\n",
    "    # Set multi-index for panel data (Supplier as entity, Date as time)\n",
    "    df = df.set_index(['Supplier', 'Date'])\n",
    "else:\n",
    "    raise KeyError(\"Required columns 'Supplier' and 'Date' are missing from the DataFrame.\")\n",
    "\n",
    "# Define the independent (X) and dependent (Y) variables\n",
    "if 'Quantity' in df.columns and 'Value' in df.columns:\n",
    "    X = df[['Quantity']]  # Independent variable\n",
    "    Y = df['Value']       # Dependent variable\n",
    "\n",
    "\n",
    "# Add a constant to the independent variable\n",
    "X = sm.add_constant(X)\n",
    "\n",
    "# Fit the panel data regression model with entity effects (Supplier-level fixed effects)\n",
    "model = PanelOLS(Y, X, entity_effects=True).fit()\n",
    "\n",
    "# Print the summary of the regression\n",
    "print(model.summary)\n"
   ]
  },
  {
   "cell_type": "code",
   "execution_count": null,
   "id": "a3f06326-225f-41d4-8987-258475063d6d",
   "metadata": {
    "jupyter": {
     "source_hidden": true
    }
   },
   "outputs": [],
   "source": [
    "import matplotlib.pyplot as plt\n",
    "\n",
    "# Scatter plot of two columns (e.g., Quantity vs. Value)\n",
    "plt.figure(figsize=(8, 6))\n",
    "plt.scatter(df['Quantity'], df['Value'], color='blue', alpha=0.5)\n",
    "plt.title('Scatter Plot of Quantity vs. Value')\n",
    "plt.xlabel('Quantity')\n",
    "plt.ylabel('Value')\n",
    "plt.grid(True)\n",
    "plt.show()"
   ]
  },
  {
   "cell_type": "code",
   "execution_count": null,
   "id": "b58a696d-611a-40b3-ad41-ecc3f082d868",
   "metadata": {},
   "outputs": [],
   "source": [
    "# Line plot of a time series (e.g., Date vs. Quantity)\n",
    "import matplotlib.pyplot as plt\n",
    "\n",
    "# Check the columns of the DataFrame\n",
    "print(\"Columns in the DataFrame:\", df.columns)\n",
    "\n",
    "# If 'Date' is in the index, reset the index to make it a column\n",
    "if 'Date' not in df.columns and 'Date' in df.index.names:\n",
    "    df.reset_index(inplace=True)\n",
    "    print(\"'Date' was in the index. Resetting the index.\")\n",
    "\n",
    "# If 'Date' column has different name (e.g., 'date' or contains spaces), rename it\n",
    "if 'Date' not in df.columns:\n",
    "    for col in df.columns:\n",
    "        if 'date' in col.lower():\n",
    "            df.rename(columns={col: 'Date'}, inplace=True)\n",
    "            print(f\"Renaming column '{col}' to 'Date'.\")\n",
    "\n",
    "# Check if 'Date' exists after adjustments\n",
    "if 'Date' in df.columns:\n",
    "    # Plot the line graph using the 'Date' and 'Quantity' columns\n",
    "    plt.figure(figsize=(10, 6))\n",
    "    plt.plot(df['Date'], df['Quantity'], color='green', linestyle='-', marker='o')\n",
    "    plt.title('Line Plot of Quantity Over Time')\n",
    "    plt.xlabel('Date')\n",
    "    plt.ylabel('Quantity')\n",
    "    plt.xticks(rotation=45)\n",
    "    plt.grid(True)\n",
    "    plt.show()\n",
    "else:\n",
    "    print(\"The 'Date' column still does not exist. Please check your dataset.\")"
   ]
  },
  {
   "cell_type": "code",
   "execution_count": null,
   "id": "223d1bc8-374d-4816-9151-2e5611a0187c",
   "metadata": {},
   "outputs": [],
   "source": [
    "import seaborn as sns\n",
    "\n",
    "# Box-Whisker plot for Quantity by some categorical variable (e.g., Import_Export)\n",
    "plt.figure(figsize=(8, 6))\n",
    "sns.boxplot(x='Import_Export', y='Quantity', data=df)\n",
    "plt.title('Box-Whisker Plot of Quantity by Import/Export')\n",
    "plt.xlabel('Import/Export')\n",
    "plt.ylabel('Quantity')\n",
    "plt.show()"
   ]
  },
  {
   "cell_type": "code",
   "execution_count": null,
   "id": "6ef56901-4af9-42fd-bd81-1afff578bbac",
   "metadata": {},
   "outputs": [],
   "source": [
    "import scipy.stats as stats\n",
    "\n",
    "# Example: Observed and expected frequencies\n",
    "observed = df['Category'].value_counts().values  # Replace with your categorical column\n",
    "expected = [len(df) / len(observed)] * len(observed)  # Uniform expected frequencies\n",
    "\n",
    "# Perform Chi-square goodness of fit test\n",
    "chi2_stat, p_value = stats.chisquare(f_obs=observed, f_exp=expected)\n",
    "print(f\"Chi-Square Statistic: {chi2_stat}, P-value: {p_value}\")"
   ]
  },
  {
   "cell_type": "code",
   "execution_count": null,
   "id": "6e2fa0d0-5dbf-4039-8946-5069b6955307",
   "metadata": {},
   "outputs": [],
   "source": [
    "# Mann-Whitney U Test (for comparing two independent groups in a non-categorical column)\n",
    "for col in non_categorical_columns:\n",
    "    for cat_col in categorical_columns:\n",
    "        unique_groups = random_df[cat_col].dropna().unique()\n",
    "        if len(unique_groups) == 2:\n",
    "            group1 = random_df[random_df[cat_col] == unique_groups[0]][col].dropna()\n",
    "            group2 = random_df[random_df[cat_col] == unique_groups[1]][col].dropna()\n",
    "            stat, p_val = mannwhitneyu(group1, group2)\n",
    "            print(f\"Mann-Whitney U Test for {col} by {cat_col} - Statistic: {stat}, p-value: {p_val}\")"
   ]
  },
  {
   "cell_type": "code",
   "execution_count": null,
   "id": "b75d700c-a0cd-4e09-bccf-df097c87aeab",
   "metadata": {},
   "outputs": [],
   "source": [
    "# Histogram of the 'Value' column\n",
    "plt.figure(figsize=(8, 6))\n",
    "sns.histplot(data=df, x='Value', bins=30, kde=True)\n",
    "plt.title('Distribution of Values')\n",
    "plt.show()"
   ]
  },
  {
   "cell_type": "code",
   "execution_count": null,
   "id": "1daccce2-4fa0-4e31-826d-8a24073dca3f",
   "metadata": {},
   "outputs": [],
   "source": [
    "import matplotlib.pyplot as plt\n",
    "\n",
    "# Select relevant categorical column 'Import_Export' to make a pie chart\n",
    "import_export_counts = random_df['Import_Export'].value_counts()\n",
    "\n",
    "# Create the pie chart\n",
    "plt.figure(figsize=(7, 7))\n",
    "plt.pie(import_export_counts, labels=import_export_counts.index, autopct='%1.1f%%', startangle=90, colors=['lightblue', 'lightgreen'])\n",
    "plt.title('Proportion of Import vs Export in Random Sample')\n",
    "plt.show()"
   ]
  }
 ],
 "metadata": {
  "kernelspec": {
   "display_name": "Python 3 (ipykernel)",
   "language": "python",
   "name": "python3"
  },
  "language_info": {
   "codemirror_mode": {
    "name": "ipython",
    "version": 3
   },
   "file_extension": ".py",
   "mimetype": "text/x-python",
   "name": "python",
   "nbconvert_exporter": "python",
   "pygments_lexer": "ipython3",
   "version": "3.12.4"
  }
 },
 "nbformat": 4,
 "nbformat_minor": 5
}
